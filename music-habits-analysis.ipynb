{
 "cells": [
  {
   "cell_type": "markdown",
   "metadata": {
    "id": "E0vqbgi9ay0H"
   },
   "source": [
    "# Déjame escuchar la música"
   ]
  },
  {
   "cell_type": "markdown",
   "metadata": {
    "id": "fhq_eyov_Zcs"
   },
   "source": [
    "# Contenido <a id='back'></a>\n",
    "\n",
    "* [Introducción](#intro)\n",
    "* [Etapa 1. Descripción de los datos](#data_review)\n",
    "    * [Conclusiones](#data_review_conclusions)\n",
    "* [Etapa 2. Preprocesamiento de datos](#data_preprocessing)\n",
    "    * [2.1 Estilo del encabezado](#header_style)\n",
    "    * [2.2 Valores ausentes](#missing_values)\n",
    "    * [2.3 Duplicados](#duplicates)\n",
    "    * [2.4 Conclusiones](#data_preprocessing_conclusions)\n",
    "* [Etapa 3. Prueba de hipótesis](#hypothesis)\n",
    "    * [3.1 Hipótesis 1: actividad de los usuarios y las usuarias en las dos ciudades](#activity)\n",
    "* [Conclusiones](#end)"
   ]
  },
  {
   "cell_type": "markdown",
   "metadata": {
    "id": "VUC88oWjTJw2"
   },
   "source": [
    "## Introducción <a id='intro'></a>\n",
    "Como analista de datos, tu trabajo consiste en analizar datos para extraer información valiosa y tomar decisiones basadas en ellos. Esto implica diferentes etapas, como la descripción general de los datos, el preprocesamiento y la prueba de hipótesis.\n",
    "\n",
    "Siempre que investigamos, necesitamos formular hipótesis que después podamos probar. A veces aceptamos estas hipótesis; otras veces, las rechazamos. Para tomar las decisiones correctas, una empresa debe ser capaz de entender si está haciendo las suposiciones correctas.\n",
    "\n",
    "En este proyecto, compararás las preferencias musicales de las ciudades de Springfield y Shelbyville. Estudiarás datos reales de transmisión de música online para probar la hipótesis a continuación y comparar el comportamiento de los usuarios y las usuarias de estas dos ciudades.\n",
    "\n",
    "### Objetivo:\n",
    "Prueba la hipótesis:\n",
    "1. La actividad de los usuarios y las usuarias difiere según el día de la semana y dependiendo de la ciudad.\n",
    "\n",
    "\n",
    "### Etapas\n",
    "Los datos del comportamiento del usuario se almacenan en el archivo `/datasets/music_project_en.csv`. No hay ninguna información sobre la calidad de los datos, así que necesitarás examinarlos antes de probar la hipótesis.\n",
    "\n",
    "Primero, evaluarás la calidad de los datos y verás si los problemas son significativos. Entonces, durante el preprocesamiento de datos, tomarás en cuenta los problemas más críticos.\n",
    "\n",
    "Tu proyecto consistirá en tres etapas:\n",
    " 1. Descripción de los datos.\n",
    " 2. Preprocesamiento de datos.\n",
    " 3. Prueba de hipótesis.\n",
    "\n",
    "\n",
    "\n",
    "\n",
    "\n",
    "\n"
   ]
  },
  {
   "cell_type": "markdown",
   "metadata": {
    "id": "hDt6pg-Rw-1U"
   },
   "source": [
    "[Volver a Contenidos](#back)"
   ]
  },
  {
   "cell_type": "markdown",
   "metadata": {
    "id": "Ml1hmfXC_Zcs"
   },
   "source": [
    "## Etapa 1. Descripción de los datos <a id='data_review'></a>\n",
    "\n",
    "Abre los datos y examínalos."
   ]
  },
  {
   "cell_type": "markdown",
   "metadata": {
    "id": "57eAOGIz_Zcs"
   },
   "source": [
    "Necesitarás `pandas`, así que impórtalo."
   ]
  },
  {
   "cell_type": "code",
   "execution_count": 1,
   "metadata": {
    "id": "AXN7PHPN_Zcs",
    "trusted": true
   },
   "outputs": [],
   "source": [
    "import pandas as pd\n"
   ]
  },
  {
   "cell_type": "markdown",
   "metadata": {
    "id": "SG23P8tt_Zcs"
   },
   "source": [
    "Lee el archivo `music_project_en.csv` de la carpeta `/datasets/` y guárdalo en la variable `df`:"
   ]
  },
  {
   "cell_type": "code",
   "execution_count": 2,
   "metadata": {
    "id": "fFVu7vqh_Zct",
    "trusted": true
   },
   "outputs": [],
   "source": [
    "\n",
    "df= pd.read_csv('/datasets/music_project_en.csv')\n"
   ]
  },
  {
   "cell_type": "markdown",
   "metadata": {
    "id": "rDoOMd3uTqnZ"
   },
   "source": [
    "Muestra las 10 primeras filas de la tabla:"
   ]
  },
  {
   "cell_type": "code",
   "execution_count": 3,
   "metadata": {
    "id": "oWTVX3gW_Zct",
    "trusted": true
   },
   "outputs": [
    {
     "name": "stdout",
     "output_type": "stream",
     "text": [
      "     userID                        Track            artist   genre  \\\n",
      "0  FFB692EC            Kamigata To Boots  The Mass Missile    rock   \n",
      "1  55204538  Delayed Because of Accident  Andreas Rönnberg    rock   \n",
      "2    20EC38            Funiculì funiculà       Mario Lanza     pop   \n",
      "3  A3DD03C9        Dragons in the Sunset        Fire + Ice    folk   \n",
      "4  E2DC1FAE                  Soul People        Space Echo   dance   \n",
      "5  842029A1                       Chains          Obladaet  rusrap   \n",
      "6  4CB90AA5                         True      Roman Messer   dance   \n",
      "7  F03E1C1F             Feeling This Way   Polina Griffith   dance   \n",
      "8  8FA1D3BE                     L’estate       Julia Dalia  ruspop   \n",
      "9  E772D5C0                    Pessimist               NaN   dance   \n",
      "\n",
      "        City        time        Day  \n",
      "0  Shelbyville  20:28:33  Wednesday  \n",
      "1  Springfield  14:07:09     Friday  \n",
      "2  Shelbyville  20:58:07  Wednesday  \n",
      "3  Shelbyville  08:37:09     Monday  \n",
      "4  Springfield  08:34:34     Monday  \n",
      "5  Shelbyville  13:09:41     Friday  \n",
      "6  Springfield  13:00:07  Wednesday  \n",
      "7  Springfield  20:47:49  Wednesday  \n",
      "8  Springfield  09:17:40     Friday  \n",
      "9  Shelbyville  21:20:49  Wednesday  \n"
     ]
    }
   ],
   "source": [
    "print(df.head(10))\n"
   ]
  },
  {
   "cell_type": "markdown",
   "metadata": {
    "id": "EO73Kwic_Zct"
   },
   "source": [
    "Obtén la información general sobre la tabla con un comando. Conoces el método que muestra la información general que necesitamos."
   ]
  },
  {
   "cell_type": "code",
   "execution_count": 4,
   "metadata": {
    "id": "DSf2kIb-_Zct",
    "trusted": true
   },
   "outputs": [
    {
     "name": "stdout",
     "output_type": "stream",
     "text": [
      "<class 'pandas.core.frame.DataFrame'>\n",
      "RangeIndex: 65079 entries, 0 to 65078\n",
      "Data columns (total 7 columns):\n",
      " #   Column    Non-Null Count  Dtype \n",
      "---  ------    --------------  ----- \n",
      " 0     userID  65079 non-null  object\n",
      " 1   Track     63736 non-null  object\n",
      " 2   artist    57512 non-null  object\n",
      " 3   genre     63881 non-null  object\n",
      " 4     City    65079 non-null  object\n",
      " 5   time      65079 non-null  object\n",
      " 6   Day       65079 non-null  object\n",
      "dtypes: object(7)\n",
      "memory usage: 3.5+ MB\n"
     ]
    }
   ],
   "source": [
    "# Obtener la información general sobre nuestros datos\n",
    "df.info()"
   ]
  },
  {
   "cell_type": "markdown",
   "metadata": {
    "id": "TaQ2Iwbr_Zct"
   },
   "source": [
    "Estas son nuestras observaciones sobre la tabla. Contiene siete columnas. Almacenan los mismos tipos de datos: `object`.\n",
    "\n",
    "Según la documentación:\n",
    "- `' userID'`: identificador del usuario o la usuaria;\n",
    "- `'Track'`: título de la canción;\n",
    "- `'artist'`: nombre del artista;\n",
    "- `'genre'`: género de la pista;\n",
    "- `'City'`: ciudad del usuario o la usuaria;\n",
    "- `'time'`: la hora exacta en la que se reprodujo la canción;\n",
    "- `'Day'`: día de la semana.\n",
    "\n",
    "Podemos ver tres problemas con el estilo en los encabezados de la tabla:\n",
    "1. Algunos encabezados están en mayúsculas, otros en minúsculas.\n",
    "2. Hay espacios en algunos encabezados.\n",
    "3. Tenemos valores ausentes en las columnas 'Track','artist' y 'genre'\n",
    "\n",
    "\n"
   ]
  },
  {
   "cell_type": "markdown",
   "metadata": {
    "id": "MCB6-dXG_Zct"
   },
   "source": [
    "### Escribe observaciones de tu parte. Estas son algunas de las preguntas que pueden ser útiles: <a id='data_review_conclusions'></a>\n",
    "\n",
    "`1.   ¿Qué tipo de datos tenemos a nuestra disposición en las filas? ¿Y cómo podemos entender lo que almacenan las columnas?`\n",
    "       \n",
    "R= tenemos datos de tipo object y podemos entender el contenido de cada columna gracias a su nombre y a los datos descriptivos que se nos brindaron sobre cada columna. Por lo tanto podemos ver de que trata o a que se refiere cada uno de sus valores \n",
    "\n",
    "`2.   ¿Hay suficientes datos para proporcionar respuestas a nuestra hipótesis o necesitamos más información?`\n",
    "\n",
    "R= Aún no, todavia tenemos valores vacios que podemos rellenar\n",
    "\n",
    "\n",
    "`3.   ¿Notaste algún problema en los datos, como valores ausentes, duplicados o tipos de datos incorrectos?`\n",
    "\n",
    "R= Si, tenemos valores ausentes y tambien tenemos 3826 valores duplicados en nuestro df que tenemos que eliminar "
   ]
  },
  {
   "cell_type": "markdown",
   "metadata": {
    "id": "3eL__vcwViOi"
   },
   "source": [
    "[Volver a Contenidos](#back)"
   ]
  },
  {
   "cell_type": "markdown",
   "metadata": {
    "id": "SjYF6Ub9_Zct"
   },
   "source": [
    "## Etapa 2. Preprocesamiento de datos <a id='data_preprocessing'></a>\n",
    "\n",
    "El objetivo aquí es preparar los datos para que sean analizados.\n",
    "El primer paso es resolver cualquier problema con los encabezados. Luego podemos avanzar a los valores ausentes y duplicados. Empecemos.\n",
    "\n",
    "Corrige el formato en los encabezados de la tabla.\n"
   ]
  },
  {
   "cell_type": "markdown",
   "metadata": {
    "id": "dIaKXr29_Zct"
   },
   "source": [
    "### Estilo del encabezado <a id='header_style'></a>\n",
    "Muestra los encabezados de la tabla (los nombres de las columnas):"
   ]
  },
  {
   "cell_type": "code",
   "execution_count": 5,
   "metadata": {
    "id": "oKOTdF_Q_Zct",
    "trusted": true
   },
   "outputs": [
    {
     "name": "stdout",
     "output_type": "stream",
     "text": [
      "Index(['  userID', 'Track', 'artist', 'genre', '  City  ', 'time', 'Day'], dtype='object')\n"
     ]
    }
   ],
   "source": [
    "# Muestra los nombres de las columnas\n",
    "print(df.columns)"
   ]
  },
  {
   "cell_type": "markdown",
   "metadata": {
    "id": "zj5534cv_Zct"
   },
   "source": [
    "Cambia los encabezados de la tabla de acuerdo con las reglas del buen estilo:\n",
    "* Todos los caracteres deben ser minúsculas.\n",
    "* Elimina los espacios.\n",
    "* Si el nombre tiene varias palabras, utiliza snake_case."
   ]
  },
  {
   "cell_type": "markdown",
   "metadata": {
    "id": "Xu0zkfe5zNJe"
   },
   "source": [
    "Anteriormente, aprendiste acerca de la forma automática de cambiar el nombre de las columnas. Vamos a aplicarla ahora. Utiliza el bucle for para iterar sobre los nombres de las columnas y poner todos los caracteres en minúsculas. Cuando hayas terminado, vuelve a mostrar los encabezados de la tabla:"
   ]
  },
  {
   "cell_type": "code",
   "execution_count": 6,
   "metadata": {
    "id": "6I_RwwMhzM4e",
    "trusted": true
   },
   "outputs": [
    {
     "name": "stdout",
     "output_type": "stream",
     "text": [
      "Columnas en minúsculas:\n",
      " ['  userid', 'track', 'artist', 'genre', '  city  ', 'time', 'day']\n"
     ]
    }
   ],
   "source": [
    "# Bucle en los encabezados poniendo todo en minúsculas\n",
    "lowered_columns=[]\n",
    "for col in df.columns:\n",
    "    cleann= lowered_columns.append(col.lower())\n",
    "    \n",
    "print(\"Columnas en minúsculas:\\n\",lowered_columns)\n"
   ]
  },
  {
   "cell_type": "markdown",
   "metadata": {
    "id": "pweIRxjSzPYW"
   },
   "source": [
    "Ahora, utilizando el mismo método, elimina los espacios al principio y al final de los nombres de las columnas e imprime los nombres de las columnas nuevamente:"
   ]
  },
  {
   "cell_type": "code",
   "execution_count": 7,
   "metadata": {
    "id": "vVQXbFyJzSYl",
    "trusted": true
   },
   "outputs": [
    {
     "name": "stdout",
     "output_type": "stream",
     "text": [
      "Columnas en minúsculas y sin espacios:\n",
      " ['userid', 'track', 'artist', 'genre', 'city', 'time', 'day']\n"
     ]
    }
   ],
   "source": [
    "# Bucle en los encabezados eliminando los espacios    \n",
    "clean_columns=[]\n",
    "for col in df.columns:\n",
    "    clean_columns.append(col.lower().strip())\n",
    "    \n",
    "print(\"Columnas en minúsculas y sin espacios:\\n\",clean_columns)"
   ]
  },
  {
   "cell_type": "markdown",
   "metadata": {
    "id": "yCb8MW1JzURd"
   },
   "source": [
    "Necesitamos aplicar la regla de snake_case a la columna `userid`. Debe ser `user_id`. Cambia el nombre de esta columna y muestra los nombres de todas las columnas cuando hayas terminado."
   ]
  },
  {
   "cell_type": "code",
   "execution_count": 8,
   "metadata": {
    "id": "ISlFqs5y_Zct",
    "trusted": true
   },
   "outputs": [
    {
     "name": "stdout",
     "output_type": "stream",
     "text": [
      "Columnas corregidas:\n",
      " Index(['user_id', 'track', 'artist', 'genre', 'city', 'time', 'day'], dtype='object')\n"
     ]
    }
   ],
   "source": [
    "# Cambiar el nombre de la columna \"userid\"\n",
    "df.columns= clean_columns\n",
    "df.rename(columns={'userid': 'user_id'}, inplace=True)\n",
    "\n",
    "print(\"Columnas corregidas:\\n\", df.columns)"
   ]
  },
  {
   "cell_type": "markdown",
   "metadata": {
    "id": "1dqbh00J_Zct"
   },
   "source": [
    "Comprueba el resultado. Muestra los encabezados una vez más:"
   ]
  },
  {
   "cell_type": "code",
   "execution_count": 9,
   "metadata": {
    "id": "d4NOAmTW_Zct",
    "trusted": true
   },
   "outputs": [
    {
     "name": "stdout",
     "output_type": "stream",
     "text": [
      "Columnas corregidas:\n",
      " Index(['user_id', 'track', 'artist', 'genre', 'city', 'time', 'day'], dtype='object')\n"
     ]
    }
   ],
   "source": [
    "# Comprobar el resultado: la lista de encabezados\n",
    "print(\"Columnas corregidas:\\n\", df.columns)"
   ]
  },
  {
   "cell_type": "markdown",
   "metadata": {
    "id": "xYJk6ksJVpOl"
   },
   "source": [
    "[Volver a Contenidos](#back)"
   ]
  },
  {
   "cell_type": "markdown",
   "metadata": {
    "id": "5ISfbcfY_Zct"
   },
   "source": [
    "### Valores ausentes <a id='missing_values'></a>\n",
    " Primero, encuentra el número de valores ausentes en la tabla. Debes utilizar dos métodos en una secuencia para obtener el número de valores ausentes."
   ]
  },
  {
   "cell_type": "code",
   "execution_count": 10,
   "metadata": {
    "id": "RskX29qr_Zct",
    "trusted": true
   },
   "outputs": [
    {
     "name": "stdout",
     "output_type": "stream",
     "text": [
      "user_id       0\n",
      "track      1343\n",
      "artist     7567\n",
      "genre      1198\n",
      "city          0\n",
      "time          0\n",
      "day           0\n",
      "dtype: int64\n"
     ]
    }
   ],
   "source": [
    "# Calcular el número de valores ausentes\n",
    "print(df.isna().sum())"
   ]
  },
  {
   "cell_type": "markdown",
   "metadata": {
    "id": "qubhgnlO_Zct"
   },
   "source": [
    "No todos los valores ausentes afectan a la investigación. Por ejemplo, los valores ausentes en `track` y `artist` no son cruciales. Simplemente puedes reemplazarlos con valores predeterminados como el string `'unknown'` (desconocido).\n",
    "\n",
    "Pero los valores ausentes en `'genre'` pueden afectar la comparación entre las preferencias musicales de Springfield y Shelbyville. En la vida real, sería útil saber las razones por las cuales hay datos ausentes e intentar recuperarlos. Pero no tenemos esa oportunidad en este proyecto. Así que tendrás que:\n",
    "* rellenar estos valores ausentes con un valor predeterminado;\n",
    "* evaluar cuánto podrían afectar los valores ausentes a tus cómputos;"
   ]
  },
  {
   "cell_type": "markdown",
   "metadata": {
    "id": "fSv2laPA_Zct"
   },
   "source": [
    "Reemplazar los valores ausentes en las columnas `'track'`, `'artist'` y `'genre'` con el string `'unknown'`. Como mostramos anteriormente en las lecciones, la mejor forma de hacerlo es crear una lista que almacene los nombres de las columnas donde se necesita el reemplazo. Luego, utiliza esta lista e itera sobre las columnas donde se necesita el reemplazo haciendo el propio reemplazo."
   ]
  },
  {
   "cell_type": "code",
   "execution_count": 11,
   "metadata": {
    "id": "KplB5qWs_Zct",
    "trusted": true
   },
   "outputs": [],
   "source": [
    "#Reemplazamos valores ausentes con 'unknow'\n",
    "column_names=['track','artist','genre']\n",
    "df[column_names]= df[column_names].fillna('unknown')\n"
   ]
  },
  {
   "cell_type": "markdown",
   "metadata": {
    "id": "Ilsm-MZo_Zct"
   },
   "source": [
    "Ahora comprueba el resultado para asegurarte de que después del reemplazo no haya valores ausentes en el conjunto de datos. Para hacer esto, cuenta los valores ausentes nuevamente."
   ]
  },
  {
   "cell_type": "code",
   "execution_count": 12,
   "metadata": {
    "id": "Tq4nYRX4_Zct",
    "trusted": true
   },
   "outputs": [
    {
     "name": "stdout",
     "output_type": "stream",
     "text": [
      "user_id    0\n",
      "track      0\n",
      "artist     0\n",
      "genre      0\n",
      "city       0\n",
      "time       0\n",
      "day        0\n",
      "dtype: int64\n"
     ]
    }
   ],
   "source": [
    "# Contar valores ausentes\n",
    "print(df.isna().sum())"
   ]
  },
  {
   "cell_type": "markdown",
   "metadata": {
    "id": "74ZIBmq9VrsK"
   },
   "source": [
    "[Volver a Contenidos](#back)"
   ]
  },
  {
   "cell_type": "markdown",
   "metadata": {
    "id": "BWKRtBJ3_Zct"
   },
   "source": [
    "### Duplicados <a id='duplicates'></a>\n",
    "Encuentra el número de duplicados explícitos en la tabla. Una vez más, debes aplicar dos métodos en una secuencia para obtener la cantidad de duplicados explícitos."
   ]
  },
  {
   "cell_type": "code",
   "execution_count": 13,
   "metadata": {
    "id": "36eES_S0_Zct",
    "trusted": true
   },
   "outputs": [
    {
     "name": "stdout",
     "output_type": "stream",
     "text": [
      "3826\n"
     ]
    }
   ],
   "source": [
    "# Contar duplicados explícitos\n",
    "print(df.duplicated().sum())"
   ]
  },
  {
   "cell_type": "markdown",
   "metadata": {
    "id": "Ot25h6XR_Zct"
   },
   "source": [
    "Ahora, elimina todos los duplicados. Para ello, llama al método que hace exactamente esto."
   ]
  },
  {
   "cell_type": "code",
   "execution_count": 14,
   "metadata": {
    "id": "exFHq6tt_Zct",
    "trusted": true
   },
   "outputs": [],
   "source": [
    "# Eliminar duplicados explícitos\n",
    "df= df.drop_duplicates()"
   ]
  },
  {
   "cell_type": "markdown",
   "metadata": {
    "id": "Im2YwBEG_Zct"
   },
   "source": [
    "Comprobemos ahora si eliminamos con éxito todos los duplicados. Cuenta los duplicados explícitos una vez más para asegurarte de haberlos eliminado todos:"
   ]
  },
  {
   "cell_type": "code",
   "execution_count": 15,
   "metadata": {
    "id": "-8PuNWQ0_Zct",
    "trusted": true
   },
   "outputs": [
    {
     "name": "stdout",
     "output_type": "stream",
     "text": [
      "0\n"
     ]
    }
   ],
   "source": [
    "# Comprobar de nuevo si hay duplicados\n",
    "print(df.duplicated().sum())"
   ]
  },
  {
   "cell_type": "markdown",
   "metadata": {
    "id": "QlFBsxAr_Zct"
   },
   "source": [
    "Ahora queremos deshacernos de los duplicados implícitos en la columna `genre`. Por ejemplo, el nombre de un género se puede escribir de varias formas. Dichos errores también pueden afectar al resultado."
   ]
  },
  {
   "cell_type": "markdown",
   "metadata": {
    "id": "eSjWwsOh_Zct"
   },
   "source": [
    "Para hacerlo, primero mostremos una lista de nombres de género únicos, ordenados en orden alfabético. Para ello:\n",
    "* Extrae la columna `genre` del DataFrame.\n",
    "* Llama al método que devolverá todos los valores únicos en la columna extraída.\n"
   ]
  },
  {
   "cell_type": "code",
   "execution_count": 16,
   "metadata": {
    "id": "JIUcqzZN_Zct",
    "trusted": true
   },
   "outputs": [
    {
     "name": "stdout",
     "output_type": "stream",
     "text": [
      "['acid', 'acoustic', 'action', 'adult', 'africa', 'afrikaans', 'alternative', 'ambient', 'americana', 'animated', 'anime', 'arabesk', 'arabic', 'arena', 'argentinetango', 'art', 'audiobook', 'avantgarde', 'axé', 'baile', 'balkan', 'beats', 'bigroom', 'black', 'bluegrass', 'blues', 'bollywood', 'bossa', 'brazilian', 'breakbeat', 'breaks', 'broadway', 'cantautori', 'cantopop', 'canzone', 'caribbean', 'caucasian', 'celtic', 'chamber', 'children', 'chill', 'chinese', 'choral', 'christian', 'christmas', 'classical', 'classicmetal', 'club', 'colombian', 'comedy', 'conjazz', 'contemporary', 'country', 'cuban', 'dance', 'dancehall', 'dancepop', 'dark', 'death', 'deep', 'deutschrock', 'deutschspr', 'dirty', 'disco', 'dnb', 'documentary', 'downbeat', 'downtempo', 'drum', 'dub', 'dubstep', 'eastern', 'easy', 'electronic', 'electropop', 'emo', 'entehno', 'epicmetal', 'estrada', 'ethnic', 'eurofolk', 'european', 'experimental', 'extrememetal', 'fado', 'film', 'fitness', 'flamenco', 'folk', 'folklore', 'folkmetal', 'folkrock', 'folktronica', 'forró', 'frankreich', 'französisch', 'french', 'funk', 'future', 'gangsta', 'garage', 'german', 'ghazal', 'gitarre', 'glitch', 'gospel', 'gothic', 'grime', 'grunge', 'gypsy', 'handsup', \"hard'n'heavy\", 'hardcore', 'hardstyle', 'hardtechno', 'hip', 'hip-hop', 'hiphop', 'historisch', 'holiday', 'hop', 'horror', 'house', 'idm', 'independent', 'indian', 'indie', 'indipop', 'industrial', 'inspirational', 'instrumental', 'international', 'irish', 'jam', 'japanese', 'jazz', 'jewish', 'jpop', 'jungle', 'k-pop', 'karadeniz', 'karaoke', 'kayokyoku', 'korean', 'laiko', 'latin', 'latino', 'leftfield', 'local', 'lounge', 'loungeelectronic', 'lovers', 'malaysian', 'mandopop', 'marschmusik', 'meditative', 'mediterranean', 'melodic', 'metal', 'metalcore', 'mexican', 'middle', 'minimal', 'miscellaneous', 'modern', 'mood', 'mpb', 'muslim', 'native', 'neoklassik', 'neue', 'new', 'newage', 'newwave', 'nu', 'nujazz', 'numetal', 'oceania', 'old', 'opera', 'orchestral', 'other', 'piano', 'pop', 'popelectronic', 'popeurodance', 'post', 'posthardcore', 'postrock', 'power', 'progmetal', 'progressive', 'psychedelic', 'punjabi', 'punk', 'quebecois', 'ragga', 'ram', 'rancheras', 'rap', 'rave', 'reggae', 'reggaeton', 'regional', 'relax', 'religious', 'retro', 'rhythm', 'rnb', 'rnr', 'rock', 'rockabilly', 'romance', 'roots', 'ruspop', 'rusrap', 'rusrock', 'salsa', 'samba', 'schlager', 'self', 'sertanejo', 'shoegazing', 'showtunes', 'singer', 'ska', 'slow', 'smooth', 'soul', 'soulful', 'sound', 'soundtrack', 'southern', 'specialty', 'speech', 'spiritual', 'sport', 'stonerrock', 'surf', 'swing', 'synthpop', 'sängerportrait', 'tango', 'tanzorchester', 'taraftar', 'tech', 'techno', 'thrash', 'top', 'traditional', 'tradjazz', 'trance', 'tribal', 'trip', 'triphop', 'tropical', 'türk', 'türkçe', 'unknown', 'urban', 'uzbek', 'variété', 'vi', 'videogame', 'vocal', 'western', 'world', 'worldbeat', 'ïîï']\n"
     ]
    }
   ],
   "source": [
    "# Inspeccionar los nombres de géneros únicos\n",
    "print(sorted(df['genre'].unique()))"
   ]
  },
  {
   "cell_type": "markdown",
   "metadata": {
    "id": "qej-Qmuo_Zct"
   },
   "source": [
    "Busca en la lista para encontrar duplicados implícitos del género `hiphop`. Estos pueden ser nombres escritos incorrectamente o nombres alternativos para el mismo género.\n",
    "\n",
    "Verás los siguientes duplicados implícitos:\n",
    "* `hip`\n",
    "* `hop`\n",
    "* `hip-hop`\n",
    "\n",
    "Para deshacerte de ellos, crea una función llamada `replace_wrong_genres()` con dos parámetros:\n",
    "* `wrong_genres=`: esta es una lista que contiene todos los valores que necesitas reemplazar.\n",
    "* `correct_genre=`: este es un string que vas a utilizar como reemplazo.\n",
    "\n",
    "Como resultado, la función debería corregir los nombres en la columna `'genre'` de la tabla `df`, es decir, remplazar cada valor de la lista `wrong_genres` por el valor en `correct_genre`.\n",
    "\n",
    "Dentro del cuerpo de la función, utiliza un bucle `'for'` para iterar sobre la lista de géneros incorrectos, extrae la columna `'genre'` y aplica el método `replace` para hacer correcciones."
   ]
  },
  {
   "cell_type": "code",
   "execution_count": 17,
   "metadata": {
    "id": "ErNDkmns_Zct",
    "trusted": true
   },
   "outputs": [],
   "source": [
    "# Función para reemplazar duplicados implícitos\n",
    "def replace_wrong_genres(wrong_genres, correct_genre):\n",
    "    for wrong_genre in wrong_genres:\n",
    "        df['genre']= df['genre'].replace(wrong_genres,correct_genre)\n",
    "    return df"
   ]
  },
  {
   "cell_type": "markdown",
   "metadata": {
    "id": "aDoBJxbA_Zct"
   },
   "source": [
    "Ahora, llama a `replace_wrong_genres()` y pásale tales argumentos para que retire los duplicados implícitos (`hip`, `hop` y `hip-hop`) y los reemplace por `hiphop`:"
   ]
  },
  {
   "cell_type": "code",
   "execution_count": 18,
   "metadata": {
    "id": "YN5i2hpmSo09",
    "trusted": true
   },
   "outputs": [],
   "source": [
    "# Eliminar duplicados implícitos\n",
    "duplicated_name=['hip','hip-hop','hop']\n",
    "real_name='hiphop'\n",
    "\n",
    "hiphop=replace_wrong_genres(duplicated_name,real_name)"
   ]
  },
  {
   "cell_type": "markdown",
   "metadata": {
    "id": "zQKF16_RG15m"
   },
   "source": [
    "Asegúrate de que los nombres duplicados han sido eliminados. Muestra la lista de valores únicos de la columna `'genre'` una vez más:"
   ]
  },
  {
   "cell_type": "code",
   "execution_count": 19,
   "metadata": {
    "id": "wvixALnFG15m",
    "trusted": true
   },
   "outputs": [
    {
     "name": "stdout",
     "output_type": "stream",
     "text": [
      "['acid', 'acoustic', 'action', 'adult', 'africa', 'afrikaans', 'alternative', 'ambient', 'americana', 'animated', 'anime', 'arabesk', 'arabic', 'arena', 'argentinetango', 'art', 'audiobook', 'avantgarde', 'axé', 'baile', 'balkan', 'beats', 'bigroom', 'black', 'bluegrass', 'blues', 'bollywood', 'bossa', 'brazilian', 'breakbeat', 'breaks', 'broadway', 'cantautori', 'cantopop', 'canzone', 'caribbean', 'caucasian', 'celtic', 'chamber', 'children', 'chill', 'chinese', 'choral', 'christian', 'christmas', 'classical', 'classicmetal', 'club', 'colombian', 'comedy', 'conjazz', 'contemporary', 'country', 'cuban', 'dance', 'dancehall', 'dancepop', 'dark', 'death', 'deep', 'deutschrock', 'deutschspr', 'dirty', 'disco', 'dnb', 'documentary', 'downbeat', 'downtempo', 'drum', 'dub', 'dubstep', 'eastern', 'easy', 'electronic', 'electropop', 'emo', 'entehno', 'epicmetal', 'estrada', 'ethnic', 'eurofolk', 'european', 'experimental', 'extrememetal', 'fado', 'film', 'fitness', 'flamenco', 'folk', 'folklore', 'folkmetal', 'folkrock', 'folktronica', 'forró', 'frankreich', 'französisch', 'french', 'funk', 'future', 'gangsta', 'garage', 'german', 'ghazal', 'gitarre', 'glitch', 'gospel', 'gothic', 'grime', 'grunge', 'gypsy', 'handsup', \"hard'n'heavy\", 'hardcore', 'hardstyle', 'hardtechno', 'hiphop', 'historisch', 'holiday', 'horror', 'house', 'idm', 'independent', 'indian', 'indie', 'indipop', 'industrial', 'inspirational', 'instrumental', 'international', 'irish', 'jam', 'japanese', 'jazz', 'jewish', 'jpop', 'jungle', 'k-pop', 'karadeniz', 'karaoke', 'kayokyoku', 'korean', 'laiko', 'latin', 'latino', 'leftfield', 'local', 'lounge', 'loungeelectronic', 'lovers', 'malaysian', 'mandopop', 'marschmusik', 'meditative', 'mediterranean', 'melodic', 'metal', 'metalcore', 'mexican', 'middle', 'minimal', 'miscellaneous', 'modern', 'mood', 'mpb', 'muslim', 'native', 'neoklassik', 'neue', 'new', 'newage', 'newwave', 'nu', 'nujazz', 'numetal', 'oceania', 'old', 'opera', 'orchestral', 'other', 'piano', 'pop', 'popelectronic', 'popeurodance', 'post', 'posthardcore', 'postrock', 'power', 'progmetal', 'progressive', 'psychedelic', 'punjabi', 'punk', 'quebecois', 'ragga', 'ram', 'rancheras', 'rap', 'rave', 'reggae', 'reggaeton', 'regional', 'relax', 'religious', 'retro', 'rhythm', 'rnb', 'rnr', 'rock', 'rockabilly', 'romance', 'roots', 'ruspop', 'rusrap', 'rusrock', 'salsa', 'samba', 'schlager', 'self', 'sertanejo', 'shoegazing', 'showtunes', 'singer', 'ska', 'slow', 'smooth', 'soul', 'soulful', 'sound', 'soundtrack', 'southern', 'specialty', 'speech', 'spiritual', 'sport', 'stonerrock', 'surf', 'swing', 'synthpop', 'sängerportrait', 'tango', 'tanzorchester', 'taraftar', 'tech', 'techno', 'thrash', 'top', 'traditional', 'tradjazz', 'trance', 'tribal', 'trip', 'triphop', 'tropical', 'türk', 'türkçe', 'unknown', 'urban', 'uzbek', 'variété', 'vi', 'videogame', 'vocal', 'western', 'world', 'worldbeat', 'ïîï']\n"
     ]
    }
   ],
   "source": [
    "# Comprobación de duplicados implícitos\n",
    "print(sorted(df['genre'].unique()))"
   ]
  },
  {
   "cell_type": "markdown",
   "metadata": {
    "id": "ALgNbvF3VtPA"
   },
   "source": [
    "[Volver a Contenidos](#back)"
   ]
  },
  {
   "cell_type": "markdown",
   "metadata": {
    "id": "jz6a9-7HQUDd"
   },
   "source": [
    "### Tus observaciones <a id='data_preprocessing_conclusions'></a>\n",
    "\n",
    "`Describe brevemente lo que has notado al analizar duplicados, cómo abordaste sus eliminaciones y qué resultados obtuviste.`\n",
    "\n",
    "R= Hasta el momento he notado y aprendido el como ver y abordar los elementos tanro duplicados como  ausentes para poder generar nuestro analisis a partir de ellos. En este proyecto por ejemplo pudimos obtener la cantidad de valores duplicados de la tabla (los cuales no nos servirían) y eliminarlos con drop_duplicates(), rellenamos valores ausentes con fillna(), corregimos los nombres de las columnas, etc. Todo esto al final nos sirve para hacer un proceso de purga de nuestros datos previo a nuestro analisis para probar la hipotesis que tenemos. "
   ]
  },
  {
   "cell_type": "markdown",
   "metadata": {
    "id": "eK1es74rVujj"
   },
   "source": [
    "[Volver a Contenidos](#back)"
   ]
  },
  {
   "cell_type": "markdown",
   "metadata": {
    "id": "WttZHXH0SqKk"
   },
   "source": [
    "## Etapa 3. Prueba de hipótesis <a id='hypothesis'></a>"
   ]
  },
  {
   "cell_type": "markdown",
   "metadata": {
    "id": "Im936VVi_Zcu"
   },
   "source": [
    "### Hipótesis: comparar el comportamiento del usuario o la usuaria en las dos ciudades <a id='activity'></a>"
   ]
  },
  {
   "cell_type": "markdown",
   "metadata": {
    "id": "nwt_MuaL_Zcu"
   },
   "source": [
    "La hipótesis afirma que existen diferencias en la forma en que los usuarios y las usuarias de Springfield y Shelbyville consumen música. Para comprobar esto, usa los datos de tres días de la semana: lunes, miércoles y viernes.\n",
    "\n",
    "* Agrupa a los usuarios y las usuarias por ciudad.\n",
    "* Compara el número de canciones que cada grupo reprodujo el lunes, el miércoles y el viernes.\n"
   ]
  },
  {
   "cell_type": "markdown",
   "metadata": {
    "id": "8Dw_YMmT_Zcu"
   },
   "source": [
    "Realiza cada cálculo por separado.\n",
    "\n",
    "El primer paso es evaluar la actividad del usuario en cada ciudad. Recuerda las etapas dividir-aplicar-combinar de las que hablamos anteriormente en la lección. Tu objetivo ahora es agrupar los datos por ciudad, aplicar el método apropiado para contar durante la etapa de aplicación y luego encontrar la cantidad de canciones reproducidas en cada grupo especificando la columna para obtener el recuento.\n",
    "\n",
    "A continuación se muestra un ejemplo de cómo debería verse el resultado final:\n",
    "`df.groupby(by='....')['column'].method()`Realiza cada cálculo por separado.\n",
    "\n",
    "Para evaluar la actividad de los usuarios y las usuarias en cada ciudad, agrupa los datos por ciudad y encuentra la cantidad de canciones reproducidas en cada grupo.\n",
    "\n"
   ]
  },
  {
   "cell_type": "code",
   "execution_count": 20,
   "metadata": {
    "id": "0_Qs96oh_Zcu",
    "trusted": true
   },
   "outputs": [
    {
     "name": "stdout",
     "output_type": "stream",
     "text": [
      "city\n",
      "Shelbyville    18512\n",
      "Springfield    42741\n",
      "Name: track, dtype: int64\n"
     ]
    }
   ],
   "source": [
    "# Contar las canciones reproducidas en cada ciudad\n",
    "city_group_songs= df.groupby('city')['track']\n",
    "print(city_group_songs.count())"
   ]
  },
  {
   "cell_type": "markdown",
   "metadata": {
    "id": "t_Qx-3NewAnK"
   },
   "source": [
    "`Comenta tus observaciones aquí`\n",
    "\n",
    "R=Aplicamos la agrupación groupby( ) e insertamos como parametro 'city' para ordenar los datos por ciudad y con ['tracks'].count( ) logramos contar cuantas canciones fueron reproducidas en cada ciudad."
   ]
  },
  {
   "cell_type": "markdown",
   "metadata": {
    "id": "dzli3w8o_Zcu"
   },
   "source": [
    "Ahora agrupemos los datos por día de la semana y encontremos el número de canciones reproducidas el lunes, miércoles y viernes. Utiliza el mismo método que antes, pero ahora necesitamos una agrupación diferente.\n"
   ]
  },
  {
   "cell_type": "code",
   "execution_count": 21,
   "metadata": {
    "id": "uZMKjiJz_Zcu",
    "trusted": true
   },
   "outputs": [
    {
     "name": "stdout",
     "output_type": "stream",
     "text": [
      "city         day      \n",
      "Shelbyville  Friday        5895\n",
      "             Monday        5614\n",
      "             Wednesday     7003\n",
      "Springfield  Friday       15945\n",
      "             Monday       15740\n",
      "             Wednesday    11056\n",
      "Name: track, dtype: int64\n"
     ]
    }
   ],
   "source": [
    "# Calcular las canciones reproducidas en cada uno de los tres días\n",
    "day_filter= df[df['day'].isin(['Monday','Wednesday','Friday'])]\n",
    "day_group_songs= day_filter.groupby(['city','day'])['track']\n",
    "print(day_group_songs.count())"
   ]
  },
  {
   "cell_type": "markdown",
   "metadata": {
    "id": "cC2tNrlL_Zcu"
   },
   "source": [
    "`Comenta tus observaciones aquí`\n",
    "\n",
    "R=Tuvimos que crear un filtro de datos utilizando el método isin( ) para comprobar si los valores del df de la columna 'day' eran los dias que necesitabamos buscar (Monday, Wednesday, Friday). Por lo tanto, este dataframe ya filtrado por los días que buscamos nos permitió ahora agrupar nuetros datos por ciudad y por día, arrojandonos al llamar a ['track'] cuantas canciones se reprodujeron en cada uno de esos dias en dichas ciudades.   "
   ]
  },
  {
   "cell_type": "markdown",
   "metadata": {
    "id": "POzs8bGa_Zcu"
   },
   "source": [
    "Ya sabes cómo contar entradas agrupándolas por ciudad o día. Ahora necesitas escribir una función que pueda contar entradas según ambos criterios simultáneamente.\n",
    "\n",
    "Crea la función `number_tracks()` para calcular el número de canciones reproducidas en un determinado día **y** ciudad. La función debe aceptar dos parámetros:\n",
    "\n",
    "- `day`: un día de la semana para filtrar. Por ejemplo, `'Monday'` (lunes).\n",
    "- `city`: una ciudad para filtrar. Por ejemplo, `'Springfield'`.\n",
    "\n",
    "Dentro de la función, aplicarás un filtrado consecutivo con indexación lógica.\n",
    "\n",
    "Primero filtra los datos por día y luego filtra la tabla resultante por ciudad.\n",
    "\n",
    "Después de filtrar los datos por dos criterios, cuenta el número de valores de la columna 'user_id' en la tabla resultante. Este recuento representa el número de entradas que estás buscando. Guarda el resultado en una nueva variable y devuélvelo desde la función."
   ]
  },
  {
   "cell_type": "code",
   "execution_count": 22,
   "metadata": {
    "id": "Nz3GdQB1_Zcu",
    "trusted": true
   },
   "outputs": [],
   "source": [
    "def num_tracks(day,city):\n",
    "    # Almacena las filas del DataFrame donde el valor en la columna 'day' es igual al parámetro day=\n",
    "    df_filtered= df[(df['day']==day)&(df['city']==city)]\n",
    "    # Extrae la columna 'user_id' de la tabla filtrada y aplica el método count()\n",
    "    user_extract= df_filtered['user_id'].count()\n",
    "    # Devolve el número de valores de la columna 'user_id'\n",
    "    return user_extract"
   ]
  },
  {
   "cell_type": "markdown",
   "metadata": {
    "id": "ytf7xFrFJQ2r"
   },
   "source": [
    "Llama a `number_tracks()` seis veces, cambiando los valores de los parámetros para que recuperes los datos de ambas ciudades para cada uno de los tres días."
   ]
  },
  {
   "cell_type": "code",
   "execution_count": 23,
   "metadata": {
    "id": "rJcRATNQ_Zcu",
    "trusted": true
   },
   "outputs": [
    {
     "name": "stdout",
     "output_type": "stream",
     "text": [
      "15740\n"
     ]
    }
   ],
   "source": [
    "# El número de canciones reproducidas en Springfield el lunes\n",
    "day = 'Monday' \n",
    "city = 'Springfield'\n",
    "day_city_filter = num_tracks(day, city)\n",
    "\n",
    "print(day_city_filter)"
   ]
  },
  {
   "cell_type": "code",
   "execution_count": 24,
   "metadata": {
    "id": "hq_ncZ5T_Zcu",
    "trusted": true
   },
   "outputs": [
    {
     "name": "stdout",
     "output_type": "stream",
     "text": [
      "5614\n"
     ]
    }
   ],
   "source": [
    "# El número de canciones reproducidas en Shelbyville el lunes\n",
    "day = 'Monday' \n",
    "city = 'Shelbyville'\n",
    "day_city_filter = num_tracks(day, city)\n",
    "\n",
    "print(day_city_filter)"
   ]
  },
  {
   "cell_type": "code",
   "execution_count": 25,
   "metadata": {
    "id": "_NTy2VPU_Zcu",
    "trusted": true
   },
   "outputs": [
    {
     "name": "stdout",
     "output_type": "stream",
     "text": [
      "11056\n"
     ]
    }
   ],
   "source": [
    "# El número de canciones reproducidas en Springfield el miércoles\n",
    "day = 'Wednesday' \n",
    "city = 'Springfield'\n",
    "day_city_filter = num_tracks(day, city)\n",
    "\n",
    "print(day_city_filter)"
   ]
  },
  {
   "cell_type": "code",
   "execution_count": 26,
   "metadata": {
    "id": "j2y3TAwo_Zcu",
    "trusted": true
   },
   "outputs": [
    {
     "name": "stdout",
     "output_type": "stream",
     "text": [
      "7003\n"
     ]
    }
   ],
   "source": [
    "# El número de canciones reproducidas en Shelbyville el miércoles\n",
    "day = 'Wednesday' \n",
    "city = 'Shelbyville'\n",
    "day_city_filter = num_tracks(day, city)\n",
    "\n",
    "print(day_city_filter)"
   ]
  },
  {
   "cell_type": "code",
   "execution_count": 27,
   "metadata": {
    "id": "vYDw5u_K_Zcu",
    "trusted": true
   },
   "outputs": [
    {
     "name": "stdout",
     "output_type": "stream",
     "text": [
      "15945\n"
     ]
    }
   ],
   "source": [
    "# El número de canciones reproducidas en Springfield el viernes\n",
    "day = 'Friday' \n",
    "city = 'Springfield'\n",
    "day_city_filter = num_tracks(day, city)\n",
    "\n",
    "print(day_city_filter)"
   ]
  },
  {
   "cell_type": "code",
   "execution_count": 28,
   "metadata": {
    "id": "8_yzFtW3_Zcu",
    "trusted": true
   },
   "outputs": [
    {
     "name": "stdout",
     "output_type": "stream",
     "text": [
      "5895\n"
     ]
    }
   ],
   "source": [
    "# El número de canciones reproducidas en Shelbyville el viernes\n",
    "day = 'Friday' \n",
    "city = 'Shelbyville'\n",
    "day_city_filter = num_tracks(day, city)\n",
    "\n",
    "print(day_city_filter)"
   ]
  },
  {
   "cell_type": "markdown",
   "metadata": {
    "id": "-EgPIHYu_Zcu"
   },
   "source": [
    "**Conclusiones**\n",
    "\n",
    "`Comenta si la hipótesis es correcta o se debe rechazar. Explica tu razonamiento.`\n",
    "\n"
   ]
  },
  {
   "cell_type": "markdown",
   "metadata": {
    "id": "p7nFQajCVw5B"
   },
   "source": [
    "[Volver a Contenidos](#back)"
   ]
  },
  {
   "cell_type": "markdown",
   "metadata": {
    "id": "ykKQ0N65_Zcv"
   },
   "source": [
    "# Conclusiones <a id='end'></a>"
   ]
  },
  {
   "cell_type": "markdown",
   "metadata": {
    "id": "tjUwbHb3_Zcv"
   },
   "source": [
    "R= La hipótesis es correcta. Según lo que pudimos observar es que primero, en Springfield se escuchan más canciones que en Shelbyville. Y como segundo punto, hay dias en los que los usuarios escuchan más canciones que otros dias. En Spriengfield escuhan mas canciones los días Viernes, mientras que en Shelbyville los dias Miercoles es cuando más ellos esuchan canciones. En resumen y para comprobar la hipótesis, 'La actividad de los usuarios y las usuarias SI difiere según el día de la semana y tambien depende de la ciudad'  "
   ]
  },
  {
   "cell_type": "markdown",
   "metadata": {
    "id": "Ju4AHDSgV1FE"
   },
   "source": [
    "[Volver a Contenidos](#back)"
   ]
  }
 ],
 "metadata": {
  "ExecuteTimeLog": [
   {
    "duration": 413,
    "start_time": "2025-01-29T01:50:50.675Z"
   },
   {
    "duration": 110,
    "start_time": "2025-01-29T01:56:29.699Z"
   },
   {
    "duration": 99,
    "start_time": "2025-01-29T02:07:44.985Z"
   },
   {
    "duration": 94,
    "start_time": "2025-01-29T02:07:58.847Z"
   },
   {
    "duration": 93,
    "start_time": "2025-01-29T02:08:11.160Z"
   },
   {
    "duration": 131,
    "start_time": "2025-01-29T02:22:35.578Z"
   },
   {
    "duration": 136,
    "start_time": "2025-01-29T02:27:06.979Z"
   },
   {
    "duration": 97,
    "start_time": "2025-01-29T02:27:52.282Z"
   },
   {
    "duration": 101,
    "start_time": "2025-01-29T02:28:21.761Z"
   },
   {
    "duration": 638,
    "start_time": "2025-01-29T02:29:42.341Z"
   },
   {
    "duration": 125,
    "start_time": "2025-01-29T02:29:59.232Z"
   },
   {
    "duration": 127,
    "start_time": "2025-01-29T02:30:13.851Z"
   },
   {
    "duration": 6,
    "start_time": "2025-01-29T02:35:20.992Z"
   },
   {
    "duration": 107,
    "start_time": "2025-01-29T02:36:26.601Z"
   },
   {
    "duration": 127,
    "start_time": "2025-01-29T02:37:01.476Z"
   },
   {
    "duration": 127,
    "start_time": "2025-01-29T02:37:28.833Z"
   },
   {
    "duration": 131,
    "start_time": "2025-01-29T02:38:03.433Z"
   },
   {
    "duration": 102,
    "start_time": "2025-01-29T02:38:23.953Z"
   },
   {
    "duration": 4,
    "start_time": "2025-01-29T02:38:52.457Z"
   },
   {
    "duration": 98,
    "start_time": "2025-01-29T02:39:00.616Z"
   },
   {
    "duration": 106,
    "start_time": "2025-01-29T02:39:10.780Z"
   },
   {
    "duration": 134,
    "start_time": "2025-01-29T02:39:25.467Z"
   },
   {
    "duration": 124,
    "start_time": "2025-01-29T02:39:31.637Z"
   },
   {
    "duration": 98,
    "start_time": "2025-01-29T02:39:43.977Z"
   },
   {
    "duration": 99,
    "start_time": "2025-01-29T02:40:02.096Z"
   },
   {
    "duration": 102,
    "start_time": "2025-01-29T02:40:15.653Z"
   },
   {
    "duration": 101,
    "start_time": "2025-01-29T02:41:42.635Z"
   },
   {
    "duration": 102,
    "start_time": "2025-01-29T02:42:25.198Z"
   },
   {
    "duration": 97,
    "start_time": "2025-01-29T02:42:55.818Z"
   },
   {
    "duration": 142,
    "start_time": "2025-01-29T02:43:29.824Z"
   },
   {
    "duration": 126,
    "start_time": "2025-01-29T02:43:44.651Z"
   },
   {
    "duration": 96,
    "start_time": "2025-01-29T02:45:07.005Z"
   },
   {
    "duration": 104,
    "start_time": "2025-01-29T03:20:33.397Z"
   },
   {
    "duration": 96,
    "start_time": "2025-01-29T03:21:02.741Z"
   },
   {
    "duration": 97,
    "start_time": "2025-01-29T03:21:24.681Z"
   },
   {
    "duration": 97,
    "start_time": "2025-01-29T03:21:41.863Z"
   },
   {
    "duration": 98,
    "start_time": "2025-01-29T03:21:49.184Z"
   },
   {
    "duration": 99,
    "start_time": "2025-01-29T03:22:04.828Z"
   },
   {
    "duration": 128,
    "start_time": "2025-01-29T03:22:50.831Z"
   },
   {
    "duration": 4,
    "start_time": "2025-01-29T03:23:05.819Z"
   },
   {
    "duration": 5,
    "start_time": "2025-01-29T03:24:24.081Z"
   },
   {
    "duration": 209,
    "start_time": "2025-01-29T03:24:44.002Z"
   },
   {
    "duration": 122,
    "start_time": "2025-01-29T03:25:00.592Z"
   },
   {
    "duration": 94,
    "start_time": "2025-01-29T03:25:16.821Z"
   },
   {
    "duration": 101,
    "start_time": "2025-01-29T03:25:43.008Z"
   },
   {
    "duration": 108,
    "start_time": "2025-01-29T03:29:04.862Z"
   },
   {
    "duration": 138,
    "start_time": "2025-01-29T03:32:37.333Z"
   },
   {
    "duration": 112,
    "start_time": "2025-01-29T03:33:17.074Z"
   },
   {
    "duration": 102,
    "start_time": "2025-01-29T03:33:41.928Z"
   },
   {
    "duration": 95,
    "start_time": "2025-01-29T03:34:18.670Z"
   },
   {
    "duration": 94,
    "start_time": "2025-01-29T03:34:38.542Z"
   },
   {
    "duration": 95,
    "start_time": "2025-01-29T03:35:06.435Z"
   },
   {
    "duration": 98,
    "start_time": "2025-01-29T03:35:29.489Z"
   },
   {
    "duration": 94,
    "start_time": "2025-01-29T03:35:52.659Z"
   },
   {
    "duration": 94,
    "start_time": "2025-01-29T03:36:04.897Z"
   },
   {
    "duration": 93,
    "start_time": "2025-01-29T03:36:12.140Z"
   },
   {
    "duration": 105,
    "start_time": "2025-01-29T03:36:22.218Z"
   },
   {
    "duration": 94,
    "start_time": "2025-01-29T03:37:23.862Z"
   },
   {
    "duration": 101,
    "start_time": "2025-01-29T03:37:40.755Z"
   },
   {
    "duration": 230,
    "start_time": "2025-01-29T03:38:08.134Z"
   },
   {
    "duration": 107,
    "start_time": "2025-01-29T03:38:59.514Z"
   },
   {
    "duration": 95,
    "start_time": "2025-01-29T03:39:57.158Z"
   },
   {
    "duration": 95,
    "start_time": "2025-01-29T03:40:19.502Z"
   },
   {
    "duration": 92,
    "start_time": "2025-01-29T03:40:38.253Z"
   },
   {
    "duration": 116,
    "start_time": "2025-01-29T03:42:33.947Z"
   },
   {
    "duration": 133,
    "start_time": "2025-01-29T03:44:14.095Z"
   },
   {
    "duration": 151,
    "start_time": "2025-01-29T03:44:22.964Z"
   },
   {
    "duration": 215,
    "start_time": "2025-01-29T03:49:19.954Z"
   },
   {
    "duration": 117,
    "start_time": "2025-01-29T03:51:46.857Z"
   },
   {
    "duration": 103,
    "start_time": "2025-01-29T03:53:35.599Z"
   },
   {
    "duration": 90,
    "start_time": "2025-01-29T03:53:39.905Z"
   },
   {
    "duration": 3,
    "start_time": "2025-01-29T04:03:45.611Z"
   },
   {
    "duration": 93,
    "start_time": "2025-01-29T04:07:25.853Z"
   },
   {
    "duration": 98,
    "start_time": "2025-01-29T04:10:22.320Z"
   },
   {
    "duration": 4,
    "start_time": "2025-01-29T04:11:18.899Z"
   },
   {
    "duration": 96,
    "start_time": "2025-01-29T04:11:25.172Z"
   },
   {
    "duration": 5,
    "start_time": "2025-01-29T04:12:02.071Z"
   },
   {
    "duration": 139,
    "start_time": "2025-01-29T04:12:16.122Z"
   },
   {
    "duration": 95,
    "start_time": "2025-01-29T04:12:26.446Z"
   },
   {
    "duration": 3,
    "start_time": "2025-01-29T04:12:37.902Z"
   },
   {
    "duration": 4,
    "start_time": "2025-01-29T04:12:47.288Z"
   },
   {
    "duration": 4,
    "start_time": "2025-01-29T04:13:50.667Z"
   },
   {
    "duration": 97,
    "start_time": "2025-01-29T04:14:02.714Z"
   },
   {
    "duration": 96,
    "start_time": "2025-01-29T04:14:12.599Z"
   },
   {
    "duration": 101,
    "start_time": "2025-01-29T04:14:16.265Z"
   },
   {
    "duration": 93,
    "start_time": "2025-01-29T04:14:29.409Z"
   },
   {
    "duration": 94,
    "start_time": "2025-01-29T04:40:22.672Z"
   },
   {
    "duration": 90,
    "start_time": "2025-01-29T04:41:39.919Z"
   },
   {
    "duration": 106,
    "start_time": "2025-01-29T04:50:10.973Z"
   },
   {
    "duration": 407,
    "start_time": "2025-01-29T04:52:21.817Z"
   },
   {
    "duration": 87,
    "start_time": "2025-01-29T04:53:10.651Z"
   },
   {
    "duration": 125,
    "start_time": "2025-01-29T04:55:59.831Z"
   },
   {
    "duration": 132,
    "start_time": "2025-01-29T04:57:21.555Z"
   },
   {
    "duration": 85,
    "start_time": "2025-01-29T04:58:56.720Z"
   },
   {
    "duration": 88,
    "start_time": "2025-01-29T04:59:47.722Z"
   },
   {
    "duration": 106,
    "start_time": "2025-01-29T05:02:39.837Z"
   },
   {
    "duration": 114,
    "start_time": "2025-01-29T05:10:10.567Z"
   },
   {
    "duration": 100,
    "start_time": "2025-01-29T05:10:26.586Z"
   },
   {
    "duration": 103,
    "start_time": "2025-01-29T05:10:47.393Z"
   },
   {
    "duration": 105,
    "start_time": "2025-01-29T05:11:03.592Z"
   },
   {
    "duration": 101,
    "start_time": "2025-01-29T05:11:18.253Z"
   },
   {
    "duration": 104,
    "start_time": "2025-01-29T05:12:49.054Z"
   },
   {
    "duration": 113,
    "start_time": "2025-01-29T05:13:02.491Z"
   },
   {
    "duration": 115,
    "start_time": "2025-01-29T05:13:14.335Z"
   },
   {
    "duration": 114,
    "start_time": "2025-01-29T05:14:08.272Z"
   },
   {
    "duration": 140,
    "start_time": "2025-01-29T05:16:45.646Z"
   },
   {
    "duration": 197,
    "start_time": "2025-01-29T05:17:29.173Z"
   },
   {
    "duration": 197,
    "start_time": "2025-01-29T05:17:41.964Z"
   },
   {
    "duration": 238,
    "start_time": "2025-01-29T05:17:59.548Z"
   },
   {
    "duration": 201,
    "start_time": "2025-01-29T05:18:07.346Z"
   },
   {
    "duration": 201,
    "start_time": "2025-01-29T05:18:34.982Z"
   },
   {
    "duration": 159,
    "start_time": "2025-01-29T05:18:42.241Z"
   },
   {
    "duration": 164,
    "start_time": "2025-01-29T05:21:13.631Z"
   },
   {
    "duration": 170,
    "start_time": "2025-01-29T05:21:40.320Z"
   },
   {
    "duration": 181,
    "start_time": "2025-01-29T05:24:02.040Z"
   },
   {
    "duration": 165,
    "start_time": "2025-01-29T05:24:33.999Z"
   },
   {
    "duration": 159,
    "start_time": "2025-01-29T05:24:57.281Z"
   },
   {
    "duration": 148,
    "start_time": "2025-01-29T05:26:25.819Z"
   },
   {
    "duration": 192,
    "start_time": "2025-01-29T05:49:31.317Z"
   },
   {
    "duration": 167,
    "start_time": "2025-01-29T05:50:11.155Z"
   },
   {
    "duration": 171,
    "start_time": "2025-01-29T05:50:57.182Z"
   },
   {
    "duration": 165,
    "start_time": "2025-01-29T05:51:31.717Z"
   },
   {
    "duration": 167,
    "start_time": "2025-01-29T05:51:54.710Z"
   },
   {
    "duration": 138,
    "start_time": "2025-01-29T05:52:24.539Z"
   },
   {
    "duration": 168,
    "start_time": "2025-01-29T05:53:12.364Z"
   },
   {
    "duration": 153,
    "start_time": "2025-01-29T05:53:46.784Z"
   },
   {
    "duration": 170,
    "start_time": "2025-01-29T05:53:57.839Z"
   },
   {
    "duration": 169,
    "start_time": "2025-01-29T05:54:22.896Z"
   },
   {
    "duration": 5,
    "start_time": "2025-01-29T06:07:45.831Z"
   },
   {
    "duration": 381,
    "start_time": "2025-01-29T06:07:53.254Z"
   },
   {
    "duration": 161,
    "start_time": "2025-01-29T06:13:56.289Z"
   },
   {
    "duration": 170,
    "start_time": "2025-01-29T06:21:16.050Z"
   },
   {
    "duration": 172,
    "start_time": "2025-01-29T06:21:29.581Z"
   },
   {
    "duration": 173,
    "start_time": "2025-01-29T06:26:55.842Z"
   },
   {
    "duration": 3,
    "start_time": "2025-01-29T06:43:41.319Z"
   },
   {
    "duration": 14,
    "start_time": "2025-01-29T06:45:41.064Z"
   },
   {
    "duration": 51,
    "start_time": "2025-01-29T06:45:48.165Z"
   },
   {
    "duration": 211,
    "start_time": "2025-01-29T06:46:32.732Z"
   },
   {
    "duration": 218,
    "start_time": "2025-01-29T06:48:47.656Z"
   },
   {
    "duration": 175,
    "start_time": "2025-01-29T06:50:19.356Z"
   },
   {
    "duration": 178,
    "start_time": "2025-01-29T06:50:56.146Z"
   },
   {
    "duration": 179,
    "start_time": "2025-01-29T06:51:30.822Z"
   },
   {
    "duration": 174,
    "start_time": "2025-01-29T06:52:12.258Z"
   },
   {
    "duration": 188,
    "start_time": "2025-01-29T06:52:30.940Z"
   },
   {
    "duration": 183,
    "start_time": "2025-01-29T06:53:00.814Z"
   },
   {
    "duration": 189,
    "start_time": "2025-01-29T06:53:33.433Z"
   },
   {
    "duration": 196,
    "start_time": "2025-01-29T06:54:05.367Z"
   },
   {
    "duration": 183,
    "start_time": "2025-01-29T06:54:35.549Z"
   },
   {
    "duration": 323,
    "start_time": "2025-01-29T21:39:33.527Z"
   },
   {
    "duration": 112,
    "start_time": "2025-01-29T21:39:33.851Z"
   },
   {
    "duration": 99,
    "start_time": "2025-01-29T21:39:33.964Z"
   },
   {
    "duration": 118,
    "start_time": "2025-01-29T21:39:34.065Z"
   },
   {
    "duration": 94,
    "start_time": "2025-01-29T21:39:34.185Z"
   },
   {
    "duration": 106,
    "start_time": "2025-01-29T21:39:34.282Z"
   },
   {
    "duration": 99,
    "start_time": "2025-01-29T21:39:34.391Z"
   },
   {
    "duration": 95,
    "start_time": "2025-01-29T21:39:34.493Z"
   },
   {
    "duration": 100,
    "start_time": "2025-01-29T21:39:34.590Z"
   },
   {
    "duration": 105,
    "start_time": "2025-01-29T21:39:34.693Z"
   },
   {
    "duration": 110,
    "start_time": "2025-01-29T21:39:34.805Z"
   },
   {
    "duration": 120,
    "start_time": "2025-01-29T21:39:34.917Z"
   },
   {
    "duration": 151,
    "start_time": "2025-01-29T21:39:35.038Z"
   },
   {
    "duration": 146,
    "start_time": "2025-01-29T21:39:35.191Z"
   },
   {
    "duration": 186,
    "start_time": "2025-01-29T21:39:35.339Z"
   },
   {
    "duration": 147,
    "start_time": "2025-01-29T21:39:35.526Z"
   },
   {
    "duration": 147,
    "start_time": "2025-01-29T21:39:35.676Z"
   },
   {
    "duration": 164,
    "start_time": "2025-01-29T21:39:35.826Z"
   },
   {
    "duration": 168,
    "start_time": "2025-01-29T21:39:35.991Z"
   },
   {
    "duration": 176,
    "start_time": "2025-01-29T21:39:36.161Z"
   },
   {
    "duration": 200,
    "start_time": "2025-01-29T21:39:36.339Z"
   },
   {
    "duration": 180,
    "start_time": "2025-01-29T21:39:36.541Z"
   },
   {
    "duration": 171,
    "start_time": "2025-01-29T21:39:36.722Z"
   },
   {
    "duration": 170,
    "start_time": "2025-01-29T21:39:36.895Z"
   },
   {
    "duration": 169,
    "start_time": "2025-01-29T21:39:37.067Z"
   },
   {
    "duration": 171,
    "start_time": "2025-01-29T21:39:37.237Z"
   },
   {
    "duration": 191,
    "start_time": "2025-01-29T21:39:37.410Z"
   },
   {
    "duration": 169,
    "start_time": "2025-01-29T21:39:37.605Z"
   },
   {
    "duration": 161,
    "start_time": "2025-01-30T03:02:48.888Z"
   },
   {
    "duration": 11,
    "start_time": "2025-01-30T03:06:54.309Z"
   },
   {
    "duration": 12,
    "start_time": "2025-01-30T03:26:48.648Z"
   },
   {
    "duration": 282,
    "start_time": "2025-01-30T03:28:43.406Z"
   },
   {
    "duration": 114,
    "start_time": "2025-01-30T03:28:47.443Z"
   },
   {
    "duration": 6,
    "start_time": "2025-01-30T03:28:49.917Z"
   },
   {
    "duration": 5,
    "start_time": "2025-01-30T03:29:50.150Z"
   },
   {
    "duration": 21,
    "start_time": "2025-01-30T03:29:55.909Z"
   },
   {
    "duration": 4,
    "start_time": "2025-01-30T03:30:36.168Z"
   },
   {
    "duration": 54,
    "start_time": "2025-01-30T03:31:34.898Z"
   },
   {
    "duration": 3,
    "start_time": "2025-01-30T03:31:58.171Z"
   },
   {
    "duration": 3,
    "start_time": "2025-01-30T03:38:45.092Z"
   },
   {
    "duration": 13,
    "start_time": "2025-01-30T03:40:12.116Z"
   },
   {
    "duration": 3,
    "start_time": "2025-01-30T03:41:05.674Z"
   },
   {
    "duration": 5,
    "start_time": "2025-01-30T03:45:34.067Z"
   },
   {
    "duration": 3,
    "start_time": "2025-01-30T03:45:50.394Z"
   },
   {
    "duration": 3,
    "start_time": "2025-01-30T03:46:46.815Z"
   },
   {
    "duration": 3,
    "start_time": "2025-01-30T03:46:52.545Z"
   },
   {
    "duration": 3,
    "start_time": "2025-01-30T03:48:12.171Z"
   },
   {
    "duration": 3,
    "start_time": "2025-01-30T03:49:17.617Z"
   },
   {
    "duration": 3,
    "start_time": "2025-01-30T03:49:27.816Z"
   },
   {
    "duration": 4,
    "start_time": "2025-01-30T04:00:50.755Z"
   },
   {
    "duration": 4,
    "start_time": "2025-01-30T04:31:19.600Z"
   },
   {
    "duration": 3,
    "start_time": "2025-01-30T04:40:24.910Z"
   },
   {
    "duration": 16,
    "start_time": "2025-01-30T04:40:53.247Z"
   },
   {
    "duration": 22,
    "start_time": "2025-01-30T04:42:19.066Z"
   },
   {
    "duration": 13,
    "start_time": "2025-01-30T04:43:24.860Z"
   },
   {
    "duration": 18,
    "start_time": "2025-01-30T04:43:50.530Z"
   },
   {
    "duration": 44,
    "start_time": "2025-01-30T04:44:11.284Z"
   },
   {
    "duration": 47,
    "start_time": "2025-01-30T04:44:27.652Z"
   },
   {
    "duration": 37,
    "start_time": "2025-01-30T04:44:39.238Z"
   },
   {
    "duration": 5,
    "start_time": "2025-01-30T04:44:54.611Z"
   },
   {
    "duration": 5,
    "start_time": "2025-01-30T04:52:51.505Z"
   },
   {
    "duration": 13,
    "start_time": "2025-01-30T04:52:54.888Z"
   },
   {
    "duration": 3,
    "start_time": "2025-01-30T04:52:58.570Z"
   },
   {
    "duration": 19,
    "start_time": "2025-01-30T04:53:00.697Z"
   },
   {
    "duration": 6,
    "start_time": "2025-01-30T04:53:03.462Z"
   },
   {
    "duration": 9,
    "start_time": "2025-01-30T04:53:33.266Z"
   },
   {
    "duration": 18,
    "start_time": "2025-01-30T04:54:34.342Z"
   },
   {
    "duration": 12,
    "start_time": "2025-01-30T05:00:27.755Z"
   },
   {
    "duration": 2,
    "start_time": "2025-01-30T05:00:40.610Z"
   },
   {
    "duration": 13,
    "start_time": "2025-01-30T05:00:42.782Z"
   },
   {
    "duration": 11,
    "start_time": "2025-01-30T05:01:00.239Z"
   },
   {
    "duration": 12,
    "start_time": "2025-01-30T05:01:19.819Z"
   },
   {
    "duration": 11,
    "start_time": "2025-01-30T05:01:32.259Z"
   },
   {
    "duration": 15,
    "start_time": "2025-01-30T05:01:42.659Z"
   },
   {
    "duration": 13,
    "start_time": "2025-01-30T05:01:56.460Z"
   },
   {
    "duration": 289,
    "start_time": "2025-01-30T14:55:20.503Z"
   },
   {
    "duration": 106,
    "start_time": "2025-01-30T14:55:20.794Z"
   },
   {
    "duration": 6,
    "start_time": "2025-01-30T14:55:20.902Z"
   },
   {
    "duration": 19,
    "start_time": "2025-01-30T14:55:20.910Z"
   },
   {
    "duration": 4,
    "start_time": "2025-01-30T14:55:20.944Z"
   },
   {
    "duration": 5,
    "start_time": "2025-01-30T14:55:20.950Z"
   },
   {
    "duration": 3,
    "start_time": "2025-01-30T14:55:20.957Z"
   },
   {
    "duration": 4,
    "start_time": "2025-01-30T14:55:20.962Z"
   },
   {
    "duration": 4,
    "start_time": "2025-01-30T14:55:20.968Z"
   },
   {
    "duration": 16,
    "start_time": "2025-01-30T14:55:20.974Z"
   },
   {
    "duration": 14,
    "start_time": "2025-01-30T14:55:20.992Z"
   },
   {
    "duration": 51,
    "start_time": "2025-01-30T14:55:21.007Z"
   },
   {
    "duration": 42,
    "start_time": "2025-01-30T14:55:21.060Z"
   },
   {
    "duration": 65,
    "start_time": "2025-01-30T14:55:21.106Z"
   },
   {
    "duration": 41,
    "start_time": "2025-01-30T14:55:21.173Z"
   },
   {
    "duration": 5,
    "start_time": "2025-01-30T14:55:21.216Z"
   },
   {
    "duration": 2,
    "start_time": "2025-01-30T14:55:21.223Z"
   },
   {
    "duration": 23,
    "start_time": "2025-01-30T14:55:21.243Z"
   },
   {
    "duration": 6,
    "start_time": "2025-01-30T14:55:21.268Z"
   },
   {
    "duration": 9,
    "start_time": "2025-01-30T14:55:21.276Z"
   },
   {
    "duration": 17,
    "start_time": "2025-01-30T14:55:21.288Z"
   },
   {
    "duration": 3,
    "start_time": "2025-01-30T14:55:21.306Z"
   },
   {
    "duration": 42,
    "start_time": "2025-01-30T14:55:21.310Z"
   },
   {
    "duration": 12,
    "start_time": "2025-01-30T14:55:21.354Z"
   },
   {
    "duration": 12,
    "start_time": "2025-01-30T14:55:21.368Z"
   },
   {
    "duration": 12,
    "start_time": "2025-01-30T14:55:21.382Z"
   },
   {
    "duration": 12,
    "start_time": "2025-01-30T14:55:21.396Z"
   },
   {
    "duration": 39,
    "start_time": "2025-01-30T14:55:21.410Z"
   }
  ],
  "colab": {
   "collapsed_sections": [
    "E0vqbgi9ay0H",
    "VUC88oWjTJw2"
   ],
   "provenance": []
  },
  "kernelspec": {
   "display_name": "Python 3 (ipykernel)",
   "language": "python",
   "name": "python3"
  },
  "language_info": {
   "codemirror_mode": {
    "name": "ipython",
    "version": 3
   },
   "file_extension": ".py",
   "mimetype": "text/x-python",
   "name": "python",
   "nbconvert_exporter": "python",
   "pygments_lexer": "ipython3",
   "version": "3.9.19"
  },
  "toc": {
   "base_numbering": 1,
   "nav_menu": {},
   "number_sections": true,
   "sideBar": true,
   "skip_h1_title": true,
   "title_cell": "Table of Contents",
   "title_sidebar": "Contents",
   "toc_cell": false,
   "toc_position": {},
   "toc_section_display": true,
   "toc_window_display": false
  }
 },
 "nbformat": 4,
 "nbformat_minor": 1
}
